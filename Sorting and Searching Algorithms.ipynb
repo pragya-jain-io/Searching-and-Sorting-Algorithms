{
 "cells": [
  {
   "cell_type": "code",
   "execution_count": 15,
   "metadata": {},
   "outputs": [],
   "source": [
    "array = [3, 7, 1, 9, 4, 6, 2, 8, 5]\n",
    "array_sorted = [1, 2, 3, 4, 5, 6, 7, 8, 9]\n",
    "array_neg = [3, -7, 1, 9, -4, 6, -2, 8, 5]\n",
    "array_neg_sorted = [-7, -4, -2, 1, 3, 5, 6, 8, 9]"
   ]
  },
  {
   "cell_type": "markdown",
   "metadata": {},
   "source": [
    "---\n",
    "# Searching Algorithms\n",
    "---"
   ]
  },
  {
   "cell_type": "markdown",
   "metadata": {},
   "source": [
    "## Linear Search\n",
    "**Time Complexity**: O(N)  \n",
    "**Space Complexity**: O(1)  \n",
    "Linear search is the simplest searching algorithm that checks each element in the array sequentially until the desired element is found.\n",
    "\n",
    "### Algorithm:\n",
    "1. Start from the first element and check every element one by one.\n",
    "2. If the target element is found, return its position.\n",
    "3. If the array is exhausted and the target is not found, return -1.\n",
    "\n"
   ]
  },
  {
   "cell_type": "code",
   "execution_count": 9,
   "metadata": {},
   "outputs": [
    {
     "data": {
      "text/plain": [
       "2"
      ]
     },
     "execution_count": 9,
     "metadata": {},
     "output_type": "execute_result"
    }
   ],
   "source": [
    "def linear_search(element, array):\n",
    "    for i in range(len(array)):\n",
    "        if array[i] == element:\n",
    "            return i\n",
    "    return -1\n",
    "        \n",
    "linear_search(1,array)"
   ]
  },
  {
   "cell_type": "markdown",
   "metadata": {},
   "source": [
    "---\n",
    "## Binary Search (Iterative)\n",
    "**Time Complexity**: O(log N)  \n",
    "**Space Complexity**: O(1)  \n",
    "Binary search is an efficient algorithm for finding an element in a sorted array by repeatedly dividing the search interval in half.\n",
    "\n",
    "### Algorithm:\n",
    "1. Set two pointers, `low` and `high`, at the start and end of the array, respectively.\n",
    "2. Find the middle element, `mid = (low + high) // 2`.\n",
    "3. If the target is at the middle, return the index.\n",
    "4. If the target is smaller than the middle element, move the `high` pointer to `mid - 1`.\n",
    "5. If the target is greater, move the `low` pointer to `mid + 1`.\n",
    "6. Repeat until the target is found or the `low` pointer exceeds the `high` pointer.\n",
    "\n"
   ]
  },
  {
   "cell_type": "code",
   "execution_count": 10,
   "metadata": {},
   "outputs": [
    {
     "data": {
      "text/plain": [
       "4"
      ]
     },
     "execution_count": 10,
     "metadata": {},
     "output_type": "execute_result"
    }
   ],
   "source": [
    "def binary_search_iter(element,array):\n",
    "    low = 0\n",
    "    high = len(array) - 1\n",
    "    while low <= high:\n",
    "        mid = (low + high) // 2\n",
    "        if array[mid] == element:\n",
    "            return mid\n",
    "        if array[mid]>element:\n",
    "            high=mid-1\n",
    "        if array[mid]<element:\n",
    "            low=mid+1\n",
    "    return -1\n",
    "\n",
    "binary_search_iter(5,array_sorted)"
   ]
  },
  {
   "cell_type": "markdown",
   "metadata": {},
   "source": [
    "---\n",
    "## Binary Search (Recursive)\n",
    "**Time Complexity**: O(log N)  \n",
    "**Space Complexity**: O(log N) (due to recursion stack)  \n",
    "The recursive version of binary search follows the same logic as the iterative one but uses function calls to divide the array.\n",
    "\n",
    "### Algorithm:\n",
    "1. Set the `low` and `high` pointers.\n",
    "2. Find the middle element, `mid = (low + high) // 2`.\n",
    "3. If the target is at the middle, return the index.\n",
    "4. If the target is smaller, recursively call the binary search function on the left half.\n",
    "5. If the target is greater, recursively call the binary search function on the right half.\n",
    "6. If the base case (low > high) is reached, return -1.\n",
    "\n"
   ]
  },
  {
   "cell_type": "code",
   "execution_count": 12,
   "metadata": {},
   "outputs": [
    {
     "data": {
      "text/plain": [
       "4"
      ]
     },
     "execution_count": 12,
     "metadata": {},
     "output_type": "execute_result"
    }
   ],
   "source": [
    "def binary_search_rec(arr, low, high, target):\n",
    "    if low > high:\n",
    "        return -1\n",
    "    mid = (low + high) // 2\n",
    "    if arr[mid] == target:\n",
    "        return mid\n",
    "    elif target < arr[mid]:\n",
    "        return binary_search_rec(arr, low, mid - 1, target)\n",
    "    else:\n",
    "        return binary_search_rec(arr, mid + 1, high, target)\n",
    "    \n",
    "binary_search_rec(array_sorted,0,len(array_sorted)-1,5)"
   ]
  },
  {
   "cell_type": "markdown",
   "metadata": {},
   "source": [
    "## Search Algorithms: Comparison\n",
    "\n",
    "| Algorithm         | Best Case Time Complexity | Average Case Time Complexity | Worst Case Time Complexity | Space Complexity | When to Use                                    |\n",
    "|-------------------|---------------------------|------------------------------|----------------------------|------------------|------------------------------------------------|\n",
    "| **Linear Search** | Ω(1)                      | Θ(n)                         | O(n)                       | O(1)             | Small or unsorted arrays where the data is unknown or unordered |\n",
    "| **Binary Search (Iterative)** | Ω(1)               | Θ(log n)                     | O(log n)                   | O(1)             | Sorted arrays where quick search is required without recursion |\n",
    "| **Binary Search (Recursive)** | Ω(1)               | Θ(log n)                     | O(log n)                   | O(log n)         | Sorted arrays where recursion is preferred over iteration         |\n"
   ]
  },
  {
   "cell_type": "markdown",
   "metadata": {},
   "source": [
    "---\n",
    "---\n",
    "# Sorting Algortihms\n",
    "---"
   ]
  },
  {
   "cell_type": "markdown",
   "metadata": {},
   "source": [
    "\n",
    "## Bubble Sort / Sinking Sort\n",
    "**Time Complexity**: O(N²)  \n",
    "**Space Complexity**: O(1)  \n",
    "Bubble sort is a simple sorting algorithm that works by repeatedly swapping adjacent elements if they are in the wrong order.\n",
    "\n",
    "### Algorithm:\n",
    "1. Start at the beginning of the array.\n",
    "2. Compare the current element with the next element.\n",
    "3. If the current element is greater, swap them.\n",
    "4. Move to the next element and repeat the process.\n",
    "5. Continue this process until the entire array is sorted (i.e., no more swaps are needed).\n",
    "\n"
   ]
  },
  {
   "cell_type": "code",
   "execution_count": 17,
   "metadata": {},
   "outputs": [
    {
     "name": "stdout",
     "output_type": "stream",
     "text": [
      "[3, 1, 7, 4, 6, 2, 8, 5, 9]\n",
      "[1, 3, 4, 6, 2, 7, 5, 8, 9]\n",
      "[1, 3, 4, 2, 6, 5, 7, 8, 9]\n",
      "[1, 3, 2, 4, 5, 6, 7, 8, 9]\n",
      "[1, 2, 3, 4, 5, 6, 7, 8, 9]\n",
      "[1, 2, 3, 4, 5, 6, 7, 8, 9]\n",
      "[1, 2, 3, 4, 5, 6, 7, 8, 9]\n",
      "[1, 2, 3, 4, 5, 6, 7, 8, 9]\n",
      "[1, 2, 3, 4, 5, 6, 7, 8, 9]\n"
     ]
    },
    {
     "data": {
      "text/plain": [
       "[1, 2, 3, 4, 5, 6, 7, 8, 9]"
      ]
     },
     "execution_count": 17,
     "metadata": {},
     "output_type": "execute_result"
    }
   ],
   "source": [
    "def bubble_sort(array):\n",
    "    for i in range(len(array)):\n",
    "        for j in range(len(array)-i-1):\n",
    "            if array[j]>array[j+1]:\n",
    "                array[j],array[j+1]=array[j+1],array[j]\n",
    "        print(array)\n",
    "    return array\n",
    "\n",
    "bubble_sort([3, 7, 1, 9, 4, 6, 2, 8, 5])"
   ]
  },
  {
   "cell_type": "markdown",
   "metadata": {},
   "source": [
    "---\n",
    "## Selection Sort\n",
    "**Time Complexity**: O(N²)  \n",
    "**Space Complexity**: O(1)  \n",
    "Selection sort repeatedly selects the minimum element from the unsorted part of the array and swaps it with the first unsorted element.\n",
    "\n",
    "### Algorithm:\n",
    "1. Start at the beginning of the array.\n",
    "2. Find the smallest element in the unsorted part of the array.\n",
    "3. Swap this smallest element with the first unsorted element.\n",
    "4. Move the boundary of the unsorted part one step to the right and repeat the process.\n",
    "5. Continue until the entire array is sorted.\n"
   ]
  },
  {
   "cell_type": "code",
   "execution_count": 23,
   "metadata": {},
   "outputs": [
    {
     "name": "stdout",
     "output_type": "stream",
     "text": [
      "[] [3, 7, 1, 9, 4, 6, 2, 8, 5]\n",
      "[1] [7, 3, 9, 4, 6, 2, 8, 5]\n",
      "[1, 2] [3, 9, 4, 6, 7, 8, 5]\n",
      "[1, 2, 3] [9, 4, 6, 7, 8, 5]\n",
      "[1, 2, 3, 4] [9, 6, 7, 8, 5]\n",
      "[1, 2, 3, 4, 5] [6, 7, 8, 9]\n",
      "[1, 2, 3, 4, 5, 6] [7, 8, 9]\n",
      "[1, 2, 3, 4, 5, 6, 7] [8, 9]\n",
      "[1, 2, 3, 4, 5, 6, 7, 8] [9]\n"
     ]
    },
    {
     "data": {
      "text/plain": [
       "[1, 2, 3, 4, 5, 6, 7, 8, 9]"
      ]
     },
     "execution_count": 23,
     "metadata": {},
     "output_type": "execute_result"
    }
   ],
   "source": [
    "def find_minimum(array):\n",
    "    minimum = 0\n",
    "    for i in range(len(array)):\n",
    "        if array[i]<array[minimum]:\n",
    "            minimum = i\n",
    "    return minimum\n",
    "\n",
    "def selection_sort(array):\n",
    "    for i in range(len(array)):\n",
    "        unsorted = array[i:]\n",
    "        minimum = find_minimum(unsorted)\n",
    "        array[i],array[i+minimum] = unsorted[minimum],array[i]\n",
    "        print(array[:i],unsorted)\n",
    "    return array\n",
    "\n",
    "selection_sort([3, 7, 1, 9, 4, 6, 2, 8, 5])\n",
    "\n"
   ]
  },
  {
   "cell_type": "markdown",
   "metadata": {},
   "source": [
    "---\n",
    "## Insertion Sort\n",
    "**Time Complexity**: O(N²)  \n",
    "**Space Complexity**: O(1)  \n",
    "Insertion sort builds the final sorted array one element at a time.\n",
    "\n",
    "### Algorithm:\n",
    "1. Start with the second element (index 1) and compare it to the first element.\n",
    "2. If the second element is smaller, shift the first element to the right and insert the second element before it.\n",
    "3. Move to the next element and repeat the process of shifting and inserting.\n",
    "4. Continue until the entire array is sorted.\n"
   ]
  },
  {
   "cell_type": "code",
   "execution_count": 52,
   "metadata": {},
   "outputs": [
    {
     "name": "stdout",
     "output_type": "stream",
     "text": [
      "sorted |  unsorted |  array\n",
      "[] | [3, 7, 1, 9, 4, 6, 2, 8, 5] | [3, 7, 1, 9, 4, 6, 2, 8, 5]\n",
      "[3] | [7, 1, 9, 4, 6, 2, 8, 5] | [3, 7, 1, 9, 4, 6, 2, 8, 5]\n",
      "[3, 7] | [1, 9, 4, 6, 2, 8, 5] | [3, 7, 1, 9, 4, 6, 2, 8, 5]\n",
      "[1, 3, 7] | [9, 4, 6, 2, 8, 5] | [1, 3, 7, 9, 4, 6, 2, 8, 5]\n",
      "[1, 3, 7, 9] | [4, 6, 2, 8, 5] | [1, 3, 7, 9, 4, 6, 2, 8, 5]\n",
      "[1, 3, 4, 7, 9] | [6, 2, 8, 5] | [1, 3, 4, 7, 9, 6, 2, 8, 5]\n",
      "[1, 3, 4, 6, 7, 9] | [2, 8, 5] | [1, 3, 4, 6, 7, 9, 2, 8, 5]\n",
      "[1, 2, 3, 4, 6, 7, 9] | [8, 5] | [1, 2, 3, 4, 6, 7, 9, 8, 5]\n",
      "[1, 2, 3, 4, 6, 7, 8, 9] | [5] | [1, 2, 3, 4, 6, 7, 8, 9, 5]\n"
     ]
    },
    {
     "data": {
      "text/plain": [
       "[1, 2, 3, 4, 5, 6, 7, 8, 9]"
      ]
     },
     "execution_count": 52,
     "metadata": {},
     "output_type": "execute_result"
    }
   ],
   "source": [
    "def insertion_sort(array):\n",
    "    print(\"sorted | \",\"unsorted | \",\"array\")\n",
    "    for i in range(0,len(array)):\n",
    "        sorted = array[:i]\n",
    "        unsorted = array[i:]\n",
    "        element_to_insert = array[i]\n",
    "        print(array[:i],array[i:],array,sep=\" | \")\n",
    "        while i>0:\n",
    "            \n",
    "            if array[i-1]>element_to_insert:\n",
    "                array[i]=array[i-1]\n",
    "                i=i-1\n",
    "            else:\n",
    "                break\n",
    "        \n",
    "        array[i]=element_to_insert\n",
    "        \n",
    "\n",
    "    return array\n",
    "\n",
    "\n",
    "insertion_sort([3, 7, 1, 9, 4, 6, 2, 8, 5])"
   ]
  },
  {
   "cell_type": "markdown",
   "metadata": {},
   "source": [
    "---\n",
    "## Bucket Sort\n",
    "**Time Complexity**: O(N + K) (where K is the number of buckets)  \n",
    "**Space Complexity**: O(N + K)  \n",
    "Bucket sort divides the array into several buckets, sorts each bucket individually, and then concatenates the sorted buckets.\n",
    "\n",
    "### Algorithm:\n",
    "1. Divide the elements into several buckets based on their values.\n",
    "2. Sort each bucket individually using a different sorting algorithm (like insertion sort).\n",
    "3. Concatenate the sorted buckets to get the final sorted array.\n",
    "4. Continue until the entire array is sorted.\n",
    "\n"
   ]
  },
  {
   "cell_type": "code",
   "execution_count": 54,
   "metadata": {},
   "outputs": [
    {
     "name": "stdout",
     "output_type": "stream",
     "text": [
      "[[3, 1, 2], [4, 6, 5], [7, 9, 8]]\n",
      "bucket 0\n",
      "sorted |  unsorted |  array\n",
      "[] | [3, 1, 2] | [3, 1, 2]\n",
      "[3] | [1, 2] | [3, 1, 2]\n",
      "[1, 3] | [2] | [1, 3, 2]\n",
      "bucket 1\n",
      "sorted |  unsorted |  array\n",
      "[] | [4, 6, 5] | [4, 6, 5]\n",
      "[4] | [6, 5] | [4, 6, 5]\n",
      "[4, 6] | [5] | [4, 6, 5]\n",
      "bucket 2\n",
      "sorted |  unsorted |  array\n",
      "[] | [7, 9, 8] | [7, 9, 8]\n",
      "[7] | [9, 8] | [7, 9, 8]\n",
      "[7, 9] | [8] | [7, 9, 8]\n"
     ]
    },
    {
     "data": {
      "text/plain": [
       "[1, 2, 3, 4, 5, 6, 7, 8, 9]"
      ]
     },
     "execution_count": 54,
     "metadata": {},
     "output_type": "execute_result"
    }
   ],
   "source": [
    "import math\n",
    "def bucket_sort(array):\n",
    "    bucket_count = round(math.sqrt(len(array)))\n",
    "    max_value = max(array)\n",
    "    step = []\n",
    "    for i in range(bucket_count):\n",
    "        step.append([])\n",
    "    for j in array:\n",
    "        index_b = math.ceil(j*bucket_count/max_value)\n",
    "        step[index_b-1].append(j)\n",
    "    print(step)\n",
    "    for i in range(bucket_count):\n",
    "        print(f\"bucket {i}\")\n",
    "        step[i] = insertion_sort(step[i])\n",
    "    answer=[]\n",
    "    for i in step:\n",
    "        answer+=i\n",
    "    return answer\n",
    "    \n",
    "bucket_sort([3, 7, 1, 9, 4, 6, 2, 8, 5])\n"
   ]
  },
  {
   "cell_type": "code",
   "execution_count": 57,
   "metadata": {},
   "outputs": [
    {
     "name": "stdout",
     "output_type": "stream",
     "text": [
      "sorted |  unsorted |  array\n",
      "[] | [-7, -4, -2] | [-7, -4, -2]\n",
      "[-7] | [-4, -2] | [-7, -4, -2]\n",
      "[-7, -4] | [-2] | [-7, -4, -2]\n",
      "sorted |  unsorted |  array\n",
      "[] | [3, 1] | [3, 1]\n",
      "[3] | [1] | [3, 1]\n",
      "sorted |  unsorted |  array\n",
      "[] | [9, 6, 8, 5] | [9, 6, 8, 5]\n",
      "[9] | [6, 8, 5] | [9, 6, 8, 5]\n",
      "[6, 9] | [8, 5] | [6, 9, 8, 5]\n",
      "[6, 8, 9] | [5] | [6, 8, 9, 5]\n"
     ]
    },
    {
     "data": {
      "text/plain": [
       "[-7, -4, -2, 1, 3, 5, 6, 8, 9]"
      ]
     },
     "execution_count": 57,
     "metadata": {},
     "output_type": "execute_result"
    }
   ],
   "source": [
    "#  bucket sort with negative number\n",
    "def bucketSort(array):\n",
    "    numberofBuckets = round(math.sqrt(len(array)))\n",
    "    minValue = min(array)\n",
    "    maxValue = max(array)\n",
    "    rangeVal = (maxValue - minValue) / numberofBuckets\n",
    " \n",
    "    buckets = [[] for _ in range(numberofBuckets)]\n",
    " \n",
    "    for j in array:\n",
    "        if j == maxValue:\n",
    "            buckets[-1].append(j)\n",
    "        else:\n",
    "            index_b = math.floor((j - minValue) / rangeVal)\n",
    "            buckets[index_b].append(j)\n",
    "    \n",
    "    sorted_array = []\n",
    "    for i in range(numberofBuckets):\n",
    "        buckets[i] = insertion_sort(buckets[i])\n",
    "        sorted_array.extend(buckets[i])\n",
    "    \n",
    "    return sorted_array\n",
    "\n",
    "bucketSort(array_neg)"
   ]
  },
  {
   "cell_type": "markdown",
   "metadata": {},
   "source": [
    "---\n",
    "## Merge Sort\n",
    "**Time Complexity**: O(N log N)  \n",
    "**Space Complexity**: O(N)  \n",
    "Merge sort is a divide-and-conquer algorithm that divides the array into smaller subarrays, recursively sorts them, and then merges them back together.\n",
    "\n",
    "### Algorithm:\n",
    "1. Divide the array into two halves.\n",
    "2. Recursively sort both halves.\n",
    "3. Merge the two sorted halves into a single sorted array.\n",
    "4. Continue dividing and merging until the entire array is sorted.\n"
   ]
  },
  {
   "cell_type": "code",
   "execution_count": 62,
   "metadata": {},
   "outputs": [
    {
     "name": "stdout",
     "output_type": "stream",
     "text": [
      "[3] [7]\n",
      "[1] [9]\n",
      "[3, 7] [1, 9]\n",
      "[4] [6]\n",
      "[8] [5]\n",
      "[2] [5, 8]\n",
      "[4, 6] [2, 5, 8]\n",
      "[1, 3, 7, 9] [2, 4, 5, 6, 8]\n"
     ]
    },
    {
     "data": {
      "text/plain": [
       "[1, 2, 3, 4, 5, 6, 7, 8, 9]"
      ]
     },
     "execution_count": 62,
     "metadata": {},
     "output_type": "execute_result"
    }
   ],
   "source": [
    "def merge(arr1,arr2):\n",
    "    i=0\n",
    "    j=0\n",
    "    result = []\n",
    "    while i<len(arr1) and j<len(arr2):\n",
    "        if arr1[i]<arr2[j]:\n",
    "            result.append(arr1[i])\n",
    "            i+=1\n",
    "        elif arr1[i]>arr2[j]:\n",
    "            result.append(arr2[j])\n",
    "            j+=1\n",
    "        else:\n",
    "            result.append(arr1[i])\n",
    "            result.append(arr2[j])\n",
    "            j+=1\n",
    "            i+=1\n",
    "    result +=arr1[i:]+arr2[j:]\n",
    "    return result\n",
    "\n",
    "def mergesort(array):\n",
    "    if len(array) <= 1:\n",
    "        return array\n",
    "    left = 0\n",
    "    right = len(array)\n",
    "    if left<right:\n",
    "        mid = (left+right)//2\n",
    "        left_half = mergesort(array[left:mid])\n",
    "        right_half = mergesort(array[mid:right])\n",
    "        print(left_half,right_half)\n",
    "        return merge(left_half,right_half)\n",
    "      \n",
    "mergesort([3, 7, 1, 9, 4, 6, 2, 8, 5])\n"
   ]
  },
  {
   "cell_type": "markdown",
   "metadata": {},
   "source": [
    "---\n",
    "## Quick Sort\n",
    "**Time Complexity**: O(N log N) (best/average), O(N²) (worst)  \n",
    "**Space Complexity**: O(log N)  \n",
    "Quick sort is a divide-and-conquer algorithm that picks a pivot element, partitions the array around the pivot, and recursively sorts the subarrays.\n",
    "\n",
    "### Algorithm:\n",
    "1. Pick a pivot element (usually the first or last element).\n",
    "2. Partition the array such that elements smaller than the pivot are on its left and elements larger than the pivot are on its right.\n",
    "3. Recursively apply the same process to the left and right subarrays.\n",
    "4. Continue until the array is sorted.\n"
   ]
  },
  {
   "cell_type": "code",
   "execution_count": 73,
   "metadata": {},
   "outputs": [
    {
     "name": "stdout",
     "output_type": "stream",
     "text": [
      "[8, 7, 10, 9, 4, 6, 2, 31, 55]\n",
      "[2, 7, 4, 6, 8, 9, 10]\n",
      "[2, 7, 4, 6]\n",
      "[6, 4, 7]\n",
      "[4, 6]\n",
      "[9, 10]\n"
     ]
    },
    {
     "data": {
      "text/plain": [
       "[2, 4, 6, 7, 8, 9, 10, 31, 55]"
      ]
     },
     "execution_count": 73,
     "metadata": {},
     "output_type": "execute_result"
    }
   ],
   "source": [
    "def swap_func(array,idx1,idx2):\n",
    "    array[idx1],array[idx2] = array[idx2],array[idx1]\n",
    "    return array\n",
    "\n",
    "def quicksort(array):\n",
    "    if len(array) <= 1:\n",
    "        return array\n",
    "    pivot = 0\n",
    "    swap = 0\n",
    "    for i in range(1,len(array)):\n",
    "        if array[i] < array[pivot]:\n",
    "            swap+=1\n",
    "            array = swap_func(array,i,swap)\n",
    "    array = swap_func(array,pivot,swap)\n",
    "    array = quicksort(array[:swap]) + [array[swap],] + quicksort(array[swap+1:])\n",
    "    return array\n",
    "\n",
    "quicksort([31, 7, 10, 9, 4, 6, 2, 8, 55])\n",
    "\n"
   ]
  },
  {
   "cell_type": "markdown",
   "metadata": {},
   "source": [
    "---\n",
    "\n",
    "## Heap Sort\n",
    "**Time Complexity**: O(N log N)  \n",
    "**Space Complexity**: O(1)  \n",
    "Heap sort is a comparison-based algorithm that first builds a max heap from the array and then repeatedly extracts the largest element from the heap to form the sorted array.\n",
    "\n",
    "### Algorithm:\n",
    "1. Build a max heap from the input array.\n",
    "2. Extract the largest element (root of the heap) and place it at the end of the array.\n",
    "3. Reduce the size of the heap by one and heapify the remaining array.\n",
    "4. Repeat the process until the entire array is sorted."
   ]
  },
  {
   "cell_type": "code",
   "execution_count": 74,
   "metadata": {},
   "outputs": [
    {
     "data": {
      "text/plain": [
       "[2, 4, 6, 7, 8, 9, 10, 31, 55]"
      ]
     },
     "execution_count": 74,
     "metadata": {},
     "output_type": "execute_result"
    }
   ],
   "source": [
    "def heapify(array, n, i):\n",
    "    smallest = i\n",
    "    l =2*i +1\n",
    "    r = 2*i + 2\n",
    "    if l < n and array[smallest] > array[l]:\n",
    "        smallest = l\n",
    "    if r < n and array[smallest] > array[r]:\n",
    "        smallest = r\n",
    "    if smallest != i:\n",
    "        array[i], array[smallest] = array[smallest], array[i]\n",
    "        heapify(array, n, smallest)\n",
    "\n",
    "    \n",
    "def heap_sort(array):\n",
    "    n = len(array)\n",
    "    for i in range(n, -1, -1):\n",
    "        heapify(array, n, i)\n",
    "    for i in range(n-1,0,-1):\n",
    "        array[i], array[0] = array[0], array[i]\n",
    "        heapify(array, i, 0)\n",
    "    array.reverse()\n",
    "    return array\n",
    "\n",
    "heap_sort([31, 7, 10, 9, 4, 6, 2, 8, 55])\n",
    "\n"
   ]
  },
  {
   "cell_type": "markdown",
   "metadata": {},
   "source": [
    "## Sorting Algorithms: Comparison\n",
    "\n",
    "| Algorithm      | Best Case Time Complexity | Average Case Time Complexity | Worst Case Time Complexity | Space Complexity | When to Use                                                      |\n",
    "|----------------|---------------------------|------------------------------|----------------------------|------------------|------------------------------------------------------------------|\n",
    "| **Bubble Sort**    | Ω(n)                      | Θ(n^2)                       | O(n^2)                     | O(1)             | Small arrays or nearly sorted arrays                            |\n",
    "| **Selection Sort** | Ω(n^2)                    | Θ(n^2)                       | O(n^2)                     | O(1)             | Small arrays; when memory write is expensive                    |\n",
    "| **Insertion Sort** | Ω(n)                      | Θ(n^2)                       | O(n^2)                     | O(1)             | Small arrays or arrays that are already partially sorted        |\n",
    "| **Bucket Sort**    | Ω(n + k)                  | Θ(n + k)                     | O(n^2)                     | O(n + k)         | Uniformly distributed data or floating point numbers             |\n",
    "| **Merge Sort**     | Ω(n log n)                | Θ(n log n)                   | O(n log n)                 | O(n)             | Large data sets; when stability is required                     |\n",
    "| **Quick Sort**     | Ω(n log n)                | Θ(n log n)                   | O(n^2)                     | O(log n)         | Large data sets; when average performance is desired            |\n",
    "| **Heap Sort**      | Ω(n log n)                | Θ(n log n)                   | O(n log n)                 | O(1)             | Large data sets; when in-place sorting is needed                |\n"
   ]
  }
 ],
 "metadata": {
  "kernelspec": {
   "display_name": "Python 3",
   "language": "python",
   "name": "python3"
  },
  "language_info": {
   "codemirror_mode": {
    "name": "ipython",
    "version": 3
   },
   "file_extension": ".py",
   "mimetype": "text/x-python",
   "name": "python",
   "nbconvert_exporter": "python",
   "pygments_lexer": "ipython3",
   "version": "3.11.2"
  }
 },
 "nbformat": 4,
 "nbformat_minor": 2
}
